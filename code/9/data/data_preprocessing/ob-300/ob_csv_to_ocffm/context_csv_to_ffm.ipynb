{
 "cells": [
  {
   "cell_type": "code",
   "execution_count": 1,
   "metadata": {},
   "outputs": [],
   "source": [
    "#! /usr/bin/python3\n",
    "from __future__ import print_function\n",
    "import csv\n",
    "\n",
    "# Field 1, 2\n",
    "keys1 = ['platform', 'geo_location', 'source_id', 'publisher_id', 'document_id']\n",
    "\n",
    "feat_dict = {}\n",
    "incr_num1 = -1\n",
    "\n",
    "def add_feat(key, value, field):\n",
    "    global incr_num1\n",
    "    global feat_dict\n",
    "    real_key = \"{0}:{1}\".format(key, value)\n",
    "    if real_key in feat_dict:\n",
    "        return feat_dict[real_key]\n",
    "    if field == 0:\n",
    "        incr_num1 += 1\n",
    "        feat_idx = incr_num1\n",
    "    feat_dict[real_key] = feat_idx\n",
    "    return feat_idx\n",
    "\n",
    "def make_tuple(feat_list,field):\n",
    "    feat_str = [\"%d:1\" % i for i in feat_list]\n",
    "    fnc = lambda x: \"{}:{}\".format(int(field), x)\n",
    "    return list(map(fnc, feat_str))\n",
    "\n",
    "\n",
    "def handle_geo(geo_str):\n",
    "    items = geo_str.split('>')\n",
    "    if len(items) == 1:\n",
    "        if items[0].isdigit():\n",
    "            return [add_feat('code', items[0], 0)]\n",
    "        else:\n",
    "            return [add_feat('country', items[0], 0)]\n",
    "    if len(items) == 2:\n",
    "        if items[-1].isdigit():\n",
    "            return [add_feat('country', items[0], 0), add_feat('code', items[1], 0)]\n",
    "        else:\n",
    "            return [add_feat('country', items[0], 0), add_feat('state', items[1], 0)]\n",
    "    if len(items) == 3:\n",
    "        return [add_feat('country', items[0], 0), add_feat('state', items[1], 0), add_feat('code', items[2], 0)]\n",
    "\n",
    "\n",
    "def convert2ffm( o_f, i_f ):\n",
    "    svm_f = open(o_f, 'w')\n",
    "    for line in csv.DictReader(open(i_f), delimiter=','):\n",
    "        # Key1\n",
    "        feat_idx_list = []\n",
    "        output = \"{}:1:1\".format(line['label'])\n",
    "        for key in keys1:\n",
    "            if line[key] == \"\":\n",
    "                continue\n",
    "            if key == 'geo_location':\n",
    "                feat_idx_list += handle_geo(line['geo_location'])\n",
    "            else:\n",
    "                feat_idx_list.append(add_feat(key, line[key], 0))\n",
    "        output = \"{} {}\".format(output, \" \".join(make_tuple(feat_idx_list,0)))\n",
    "        print(output,file=svm_f)\n",
    "\n",
    "\n",
    "\n"
   ]
  },
  {
   "cell_type": "code",
   "execution_count": 2,
   "metadata": {},
   "outputs": [],
   "source": [
    "convert2ffm('context.ffm', 'context.csv')"
   ]
  }
 ],
 "metadata": {
  "kernelspec": {
   "display_name": "Python 3",
   "language": "python",
   "name": "python3"
  },
  "language_info": {
   "codemirror_mode": {
    "name": "ipython",
    "version": 3
   },
   "file_extension": ".py",
   "mimetype": "text/x-python",
   "name": "python",
   "nbconvert_exporter": "python",
   "pygments_lexer": "ipython3",
   "version": "3.8.0"
  }
 },
 "nbformat": 4,
 "nbformat_minor": 4
}
