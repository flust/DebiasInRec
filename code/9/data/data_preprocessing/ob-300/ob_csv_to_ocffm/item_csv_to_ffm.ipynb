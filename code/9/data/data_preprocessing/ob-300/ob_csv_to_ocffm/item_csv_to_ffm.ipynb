{
 "cells": [
  {
   "cell_type": "code",
   "execution_count": 1,
   "metadata": {},
   "outputs": [],
   "source": [
    "#! /usr/bin/python3\n",
    "import csv\n",
    "\n",
    "# Field 1, 2\n",
    "field0 = ['source_id']\n",
    "all_fields = [field0]\n",
    "\n",
    "feat_dict = {}\n",
    "all_idx = [-1]\n",
    "\n",
    "\n",
    "def add_feat(key, value, field):\n",
    "    global all_idx\n",
    "    global feat_dict\n",
    "    real_key = \"{0}:{1}\".format(key, value)\n",
    "    if real_key in feat_dict:\n",
    "        return feat_dict[real_key]\n",
    "    all_idx[field] += 1\n",
    "    feat_dict[real_key] = all_idx[field]\n",
    "    return all_idx[field]\n",
    "\n",
    "def make_tuple(feat_list,field):\n",
    "    feat_str = [\"%d:1\" % i for i in feat_list]\n",
    "    fnc = lambda x: \"{}:{}\".format(int(field), x)\n",
    "    return list(map(fnc, feat_str))\n",
    "\n"
   ]
  },
  {
   "cell_type": "code",
   "execution_count": 2,
   "metadata": {},
   "outputs": [
    {
     "name": "stdout",
     "output_type": "stream",
     "text": [
      "[299]\n"
     ]
    }
   ],
   "source": [
    "of = open('item.ffm', 'w')\n",
    "rf = open('item.csv')\n",
    "for line in csv.DictReader(rf, delimiter=','):\n",
    "    # Key1\n",
    "    output = \"\"\n",
    "    for i, field_i in enumerate(all_fields):\n",
    "        feat_idx_list = []\n",
    "        for key in field_i:\n",
    "            if line[key] == \"\":\n",
    "                continue\n",
    "            values = line[key].split(\"|\")\n",
    "            for val in values:\n",
    "                feat_idx_list.append(add_feat(key, val.strip(), i))\n",
    "        if len(output) != 0:\n",
    "            output = \"{} {}\".format(output,\" \".join(make_tuple(feat_idx_list, i)))\n",
    "        else:\n",
    "            output = \" \".join(make_tuple(feat_idx_list, i))\n",
    "\n",
    "    print( output, file=of )\n",
    "\n",
    "print(all_idx)\n",
    "of.close()"
   ]
  }
 ],
 "metadata": {
  "kernelspec": {
   "display_name": "Python 3",
   "language": "python",
   "name": "python3"
  },
  "language_info": {
   "codemirror_mode": {
    "name": "ipython",
    "version": 3
   },
   "file_extension": ".py",
   "mimetype": "text/x-python",
   "name": "python",
   "nbconvert_exporter": "python",
   "pygments_lexer": "ipython3",
   "version": "3.8.0"
  }
 },
 "nbformat": 4,
 "nbformat_minor": 4
}
