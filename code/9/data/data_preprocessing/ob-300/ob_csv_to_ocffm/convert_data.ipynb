{
 "cells": [
  {
   "cell_type": "code",
   "execution_count": 1,
   "metadata": {},
   "outputs": [
    {
     "name": "stderr",
     "output_type": "stream",
     "text": [
      "/usr/lib/python3.8/site-packages/IPython/core/interactiveshell.py:3050: DtypeWarning: Columns (4) have mixed types. Specify dtype option on import or set low_memory=False.\n",
      "  has_raised = await self.run_ast_nodes(code_ast.body, cell_name,\n"
     ]
    }
   ],
   "source": [
    "import numpy\n",
    "import pandas as pd\n",
    "\n",
    "# Filter by click number\n",
    "#click_number=1000\n",
    "click_number=3000\n",
    "\n",
    "df_click = pd.read_csv(\"clicks_train.csv\")\n",
    "df_click_pos = df_click.loc[df_click['clicked'] > 0]\n",
    "df_events = pd.read_csv(\"cv_events.csv\")\n",
    "df_meta = pd.read_csv(\"documents_meta.csv\")\n",
    "df_ad = pd.read_csv(\"promoted_content.csv\")\n",
    "\n",
    "df_ad = pd.merge(df_ad, df_meta, how='left', on='document_id')\n",
    "\n",
    "df_click_ad = pd.merge(df_click_pos, df_ad, on='ad_id', how='left')\n",
    "\n",
    "myfilter = df_click_ad['source_id'].value_counts().reset_index()[0:300]['index']"
   ]
  },
  {
   "cell_type": "code",
   "execution_count": 2,
   "metadata": {},
   "outputs": [],
   "source": [
    "df_item = df_ad[ df_ad['source_id'].isin(myfilter) ]\n",
    "\n",
    "df_item = df_item.drop(columns = ['ad_id', 'document_id'])\n",
    "\n",
    "df_item = df_item.groupby(by=['source_id']).agg(set)\n",
    "\n",
    "def my_merge( i_set ):\n",
    "    tmp = [ str(x) for x in i_set]\n",
    "    tmp = set(tmp)\n",
    "    tmp = \"|\".join(tmp)\n",
    "    return tmp\n",
    "    \n",
    "df_item = df_item.applymap(my_merge)\n",
    "\n",
    "df_item = df_item.reset_index().reset_index()\n",
    "\n",
    "df_item.to_csv(\"item.csv\".format(click_number), index=False)"
   ]
  },
  {
   "cell_type": "code",
   "execution_count": 3,
   "metadata": {},
   "outputs": [],
   "source": [
    "df_context = df_click_ad[ df_click_ad['source_id'].isin(myfilter) ]\n",
    "df_context = pd.merge(df_context, df_item[['source_id', 'index']], on='source_id', how='left')\n",
    "df_context = df_context.drop(columns=['document_id', 'campaign_id', 'advertiser_id', 'source_id', 'publisher_id', 'publish_time', 'ad_id'])\n",
    "\n",
    "df_context = pd.merge(df_context, df_events, on='display_id', how='left')\n",
    "df_context = pd.merge(df_context, df_meta, on='document_id', how='left')\n",
    "\n",
    "df_context = df_context.rename(columns={'index': 'label'})\n",
    "\n",
    "df_context.head()\n",
    "\n",
    "df_context.to_csv(\"context.csv\".format(click_number), index=False)"
   ]
  }
 ],
 "metadata": {
  "kernelspec": {
   "display_name": "Python 3",
   "language": "python",
   "name": "python3"
  },
  "language_info": {
   "codemirror_mode": {
    "name": "ipython",
    "version": 3
   },
   "file_extension": ".py",
   "mimetype": "text/x-python",
   "name": "python",
   "nbconvert_exporter": "python",
   "pygments_lexer": "ipython3",
   "version": "3.8.0"
  }
 },
 "nbformat": 4,
 "nbformat_minor": 4
}
